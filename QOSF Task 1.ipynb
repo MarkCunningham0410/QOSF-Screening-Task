{
 "cells": [
  {
   "cell_type": "markdown",
   "metadata": {
    "scrolled": true
   },
   "source": [
    "# QOSF Mentorship Programme Screening - Mark Cunningham\n",
    "## Task 1\n",
    "Hello! This is my attempt at tackling task 1 for the screening tasks. Overall, I found the learning experience very fun. It was my first time doing a full optimization task. \n",
    "\n",
    "## The Task\n",
    "We needed to implement a 4 qubit-state consisting of a number of \"Layers\". One layer is made up by an \"odd\" block and an \"even\" block. \n",
    "\n",
    "An odd block is an Rx gate on each qubit, with an even block being Rz gates and a combination of Cz gates. Rx and Rz gates rotated with a parameter theta.\n",
    "\n",
    "The statevector of this circuit was our variable \"psi\" and we also calculated a random 4-qubit state \"phi\". \n",
    "\n",
    "We needed to calculate the minimum possible value of the distance between these two values, with a certain combination of \"theta\" parameters.\n",
    "\n",
    "In essence, this is an optimization problem.\n",
    "\n",
    "We wanted to investigate how the number of layers in the circuit impacted our end \"minimum distance\" result.\n",
    "The end deliverable is a graph showing this!"
   ]
  },
  {
   "cell_type": "markdown",
   "metadata": {},
   "source": [
    "## Let's Get Stuck In!\n",
    "For this task I will be using Qiskit."
   ]
  },
  {
   "cell_type": "code",
   "execution_count": 1,
   "metadata": {
    "scrolled": false
   },
   "outputs": [
    {
     "name": "stderr",
     "output_type": "stream",
     "text": [
      "/opt/conda/lib/python3.7/site-packages/qiskit/providers/ibmq/ibmqfactory.py:192: UserWarning: Timestamps in IBMQ backend properties, jobs, and job results are all now in local time instead of UTC.\n",
      "  warnings.warn('Timestamps in IBMQ backend properties, jobs, and job results '\n"
     ]
    }
   ],
   "source": [
    "import numpy as np\n",
    "import random\n",
    "import matplotlib.pyplot as plt \n",
    "%matplotlib inline\n",
    "\n",
    "# Importing standard Qiskit libraries and configuring account\n",
    "from qiskit import QuantumCircuit, execute, Aer, IBMQ, QuantumRegister\n",
    "from qiskit.tools.jupyter import *\n",
    "from qiskit.visualization import *\n",
    "from qiskit.circuit import gate\n",
    "from qiskit.quantum_info import random_statevector\n",
    "from qiskit.aqua.components.optimizers import COBYLA, ADAM\n",
    "from qiskit.compiler import transpile\n",
    "\n",
    "IBMQ.load_account()\n",
    "provider = IBMQ.get_provider('ibm-q')\n",
    "simulator = Aer.get_backend('statevector_simulator')"
   ]
  },
  {
   "cell_type": "code",
   "execution_count": 2,
   "metadata": {},
   "outputs": [],
   "source": [
    "def layer(circuit,theta_params):\n",
    "    \"\"\"\n",
    "    Function that constructs a layer within a circuit.\n",
    "    \n",
    "    Parameters:\n",
    "        circuit: Qiskit Circuit Object\n",
    "        thera_params (list): 8 Parameters, one for each gate in the layer.\n",
    "    \n",
    "    Returns:\n",
    "        circuit: New Qiskit Circuit object with layer added\n",
    "    \"\"\"\n",
    "    #Odd Block\n",
    "    circuit.rx(theta_params[0],0)\n",
    "    circuit.rx(theta_params[1],1)\n",
    "    circuit.rx(theta_params[2],2)\n",
    "    circuit.rx(theta_params[3],3)\n",
    "    #Even Block\n",
    "    circuit.rz(theta_params[4],0)\n",
    "    circuit.rz(theta_params[5],1)\n",
    "    circuit.rz(theta_params[6],2)\n",
    "    circuit.rz(theta_params[7],3)\n",
    "    circuit.cz(0,1)\n",
    "    circuit.cz(0,2)\n",
    "    circuit.cz(0,3)\n",
    "    circuit.cz(1,2)\n",
    "    circuit.cz(1,3)\n",
    "    circuit.cz(2,3)\n",
    "    return circuit\n",
    "\n",
    "\n",
    "def layer_calculation(circuit,params):\n",
    "    \"\"\"\n",
    "    Calculates each layer in batches of 8 parameters, as there are 8 per layer\n",
    "    \"\"\"\n",
    "    for i in range(0,len(params), 8):\n",
    "        circuit = layer(circuit,params[i:i+8])\n",
    "    return circuit\n",
    "\n",
    "\n",
    "def construct_circuit(params):\n",
    "    \"\"\"Builds the circuit with the necessary number of layers\"\"\"\n",
    "    circuit = QuantumCircuit(4)\n",
    "    circuit = layer_calculation(circuit,params)\n",
    "    return circuit\n",
    "\n",
    "\n",
    "def run_circuit(circuit,simulator= Aer.get_backend('statevector_simulator'), number_of_shots=100):\n",
    "    \"\"\"Runs the circuit to get the statevector\"\"\"\n",
    "    job = execute(circuit, simulator, shots=number_of_shots)            \n",
    "    resultant_state = job.result().get_statevector()\n",
    "    return resultant_state"
   ]
  },
  {
   "cell_type": "code",
   "execution_count": 3,
   "metadata": {},
   "outputs": [],
   "source": [
    "#random_statevector stuff\n",
    "def random_circuit():\n",
    "    \"Generates random circuit\"\n",
    "    state = random_statevector(4) # note: the parameter you pass is the number of entries in the vector, not the number of qubits\n",
    "    qc = QuantumCircuit(4,4)\n",
    "    qc.initialize(state.data, [0,3])\n",
    "    return qc"
   ]
  },
  {
   "cell_type": "code",
   "execution_count": 4,
   "metadata": {},
   "outputs": [],
   "source": [
    "def distance_function(circuit_state,random_state):\n",
    "    \"\"\"\n",
    "    Calculates distance between two vectors\n",
    "    \"\"\"\n",
    "    state_difference = circuit_state-random_state\n",
    "    distance = np.linalg.norm(state_difference,ord=2) \n",
    "    return distance"
   ]
  },
  {
   "cell_type": "code",
   "execution_count": 5,
   "metadata": {},
   "outputs": [],
   "source": [
    "def cost_function(params):\n",
    "    \"\"\"\n",
    "    This is the cost function to be minimised.\n",
    "    \n",
    "    Parameters:\n",
    "        params: a list containing all theta values needed to build the circuit.\n",
    "    \"\"\"\n",
    "    global random_state_global # Ugly method, but easiest way of passing in a new random circuit.\n",
    "    circuit = construct_circuit(params)\n",
    "    state = run_circuit(circuit, simulator)\n",
    "    distance = distance_function(state,random_state_global)\n",
    "    return distance # our end deliverable"
   ]
  },
  {
   "cell_type": "code",
   "execution_count": 6,
   "metadata": {},
   "outputs": [],
   "source": [
    "def optimizers():\n",
    "    # Chosen optimisers for cost function minimising\n",
    "    cob = COBYLA(1000, tol=0.0001, rhobeg=2) # initialising\n",
    "    adam = ADAM(1000, tol =0.0001) #initialising\n",
    "    return cob,adam"
   ]
  },
  {
   "cell_type": "code",
   "execution_count": 7,
   "metadata": {
    "scrolled": true
   },
   "outputs": [],
   "source": [
    "def main():\n",
    "    \"\"\"\n",
    "    I'm so sorry for how messy this function is\n",
    "    \"\"\"\n",
    "    #preparing optimizers\n",
    "    cob,adam = optimizers()\n",
    "    \n",
    "    # where our results are stored\n",
    "    returned_values_cobyla = []\n",
    "    returned_values_adam = []\n",
    "\n",
    "    #new circuit for each number of layers\n",
    "    for number_of_layers in range (1,11):\n",
    "\n",
    "        # initialising between 0 and 2Pi\n",
    "        params = [random.uniform(0,2*np.pi) for i in range(8 * number_of_layers)]\n",
    "        \n",
    "        bounds = []\n",
    "        for param in params:\n",
    "            bounds.append((0, 2*np.pi)) # bounds for optimiser\n",
    "\n",
    "        ret1 = cob.optimize(num_vars=8 * number_of_layers,\n",
    "                         objective_function=cost_function,\n",
    "                         initial_point=params,\n",
    "                         variable_bounds=bounds)\n",
    "        returned_values_cobyla.append(ret1)\n",
    "        print(\"---- Appended cobyla ----\" + str(number_of_layers))\n",
    "\n",
    "        ret2 = adam.optimize(num_vars=8 * number_of_layers,\n",
    "                         objective_function=cost_function,\n",
    "                         initial_point=params,\n",
    "                         variable_bounds=bounds)\n",
    "        returned_values_adam.append(ret2)\n",
    "        print(\"---- Appended adam ----\" + str(number_of_layers))\n",
    "    \n",
    "    #only returning the end Epsilon values (rather than also our thetas)\n",
    "    cobyla_results = [i[1] for i in returned_values_cobyla]\n",
    "    adam_results = [i[1] for i in returned_values_adam]\n",
    "        \n",
    "    return (cobyla_results, adam_results)"
   ]
  },
  {
   "cell_type": "code",
   "execution_count": 8,
   "metadata": {
    "collapsed": true
   },
   "outputs": [
    {
     "name": "stdout",
     "output_type": "stream",
     "text": [
      "---- Appended cobyla ----1\n",
      "---- Appended adam ----1\n",
      "---- Appended cobyla ----2\n",
      "---- Appended adam ----2\n",
      "---- Appended cobyla ----3\n",
      "---- Appended adam ----3\n",
      "---- Appended cobyla ----4\n",
      "---- Appended adam ----4\n",
      "---- Appended cobyla ----5\n",
      "---- Appended adam ----5\n",
      "---- Appended cobyla ----6\n",
      "---- Appended adam ----6\n",
      "---- Appended cobyla ----7\n",
      "---- Appended adam ----7\n",
      "---- Appended cobyla ----8\n",
      "---- Appended adam ----8\n",
      "---- Appended cobyla ----9\n",
      "---- Appended adam ----9\n",
      "---- Appended cobyla ----10\n",
      "---- Appended adam ----10\n"
     ]
    }
   ],
   "source": [
    "# defining random state - global variable to be used in cost_function()\n",
    "#I know this isn't ideal but it's the quickest solution right now\n",
    "#Currently looking at how to use it as a parameter in the optimizer\n",
    "random_state_global = run_circuit(random_circuit()) \n",
    "\n",
    "(cobyla_results, adam_results) = main()"
   ]
  },
  {
   "cell_type": "code",
   "execution_count": 15,
   "metadata": {},
   "outputs": [
    {
     "data": {
      "text/plain": [
       "[<matplotlib.lines.Line2D at 0x7f0b78bab950>]"
      ]
     },
     "execution_count": 15,
     "metadata": {},
     "output_type": "execute_result"
    },
    {
     "data": {
      "image/png": "[encoded data removed]",
      "text/plain": [
       "<Figure size 432x288 with 1 Axes>"
      ]
     },
     "metadata": {
      "needs_background": "light"
     },
     "output_type": "display_data"
    }
   ],
   "source": [
    "plt.title(\"Cobyla Optimization of Minimum Distance vs. Number of Layers\")\n",
    "plt.xlabel(\"Number Of Layers\")\n",
    "plt.ylabel(\"Minimum Distance\")\n",
    "plt.xticks(np.arange(10))\n",
    "plt.plot([i for i in range(1,len(cobyla_results)+1)],cobyla_results)"
   ]
  },
  {
   "cell_type": "code",
   "execution_count": 16,
   "metadata": {},
   "outputs": [
    {
     "data": {
      "text/plain": [
       "[<matplotlib.lines.Line2D at 0x7f0b789fea90>]"
      ]
     },
     "execution_count": 16,
     "metadata": {},
     "output_type": "execute_result"
    },
    {
     "data": {
      "image/png": "[encoded data removed]",
      "text/plain": [
       "<Figure size 432x288 with 1 Axes>"
      ]
     },
     "metadata": {
      "needs_background": "light"
     },
     "output_type": "display_data"
    }
   ],
   "source": [
    "plt.title(\"Adam Optimization of Minimum Distance vs. Number of Layers\")\n",
    "plt.xlabel(\"Number Of Layers\")\n",
    "plt.ylabel(\"Minimum Distance\")\n",
    "plt.xticks(np.arange(10))\n",
    "plt.plot([i for i in range(1,len(adam_results)+1)],adam_results)"
   ]
  },
  {
   "cell_type": "markdown",
   "metadata": {},
   "source": [
    "## Conclusion\n",
    "We can see that as the number of layers increases in the circuit, the minimum distance between these two vectors decreases quite substantially.\n",
    "Cobyla seems to do a better job at getting the lowest values possible with a smaller number of layers, however Adam definitely performs better in the long run with more layers added.\n",
    "\n",
    "## Room for Improvement\n",
    "Definitely the most alarming part of this code is that I use the Random State as a global variable for use within the cost function. Ideally, this would be passed in as a parameter through the optimizer. I have been given some great resources by Michal, but I think I was running out of time before I would be able to be implementing anything like that. It definitely has peaked my interest though as I am keen to do more optimization work in future.\n",
    "\n",
    "Also, I feel like I used COBYLA and Adam without really knowing exactly why. They both did similarly, but I'm not familiar with the mathematics behind what makes each optimizer perform differently.\n"
   ]
  },
  {
   "cell_type": "markdown",
   "metadata": {},
   "source": [
    "# On to the Bonus Question\n",
    "### \"Try using other gates for the parametrized gates and see what happens\"\n",
    "My understanding of this is basically to transpile the circuit with a different combination of gates. Therefore, it makes sense that the only function that needs to change is how the circuit itself is constructed. I decided as a test to use CX and U3 gates. It at least seemed to work.\n",
    "\n",
    "I also have changed the main() function too though - to have less layers and also just use the cobyla optimizer - in the interest of time as Adam took very long to run."
   ]
  },
  {
   "cell_type": "code",
   "execution_count": 21,
   "metadata": {
    "scrolled": true
   },
   "outputs": [],
   "source": [
    "def main():\n",
    "    \"\"\"\n",
    "    Changing this too to not worry about the ADAM Optimizer\n",
    "    \"\"\"\n",
    "    #preparing optimizers\n",
    "    cob,adam = optimizers()\n",
    "    \n",
    "    # where our results are stored\n",
    "    returned_values_cobyla = []\n",
    "\n",
    "    #new circuit for each number of layers\n",
    "    for number_of_layers in range (1,6):\n",
    "\n",
    "        # initialising between 0 and 2Pi\n",
    "        params = [random.uniform(0,2*np.pi) for i in range(8 * number_of_layers)]\n",
    "        \n",
    "        bounds = []\n",
    "        for param in params:\n",
    "            bounds.append((0, 2*np.pi)) # bounds for optimiser\n",
    "\n",
    "        ret1 = cob.optimize(num_vars=8 * number_of_layers,\n",
    "                         objective_function=cost_function,\n",
    "                         initial_point=params,\n",
    "                         variable_bounds=bounds)\n",
    "        returned_values_cobyla.append(ret1)\n",
    "        print(\"---- Appended cobyla ----\" + str(number_of_layers))\n",
    "    \n",
    "    #only returning the end Epsilon values (rather than also our thetas)\n",
    "    cobyla_results = [i[1] for i in returned_values_cobyla]\n",
    "        \n",
    "    return cobyla_results"
   ]
  },
  {
   "cell_type": "code",
   "execution_count": 17,
   "metadata": {},
   "outputs": [],
   "source": [
    "def construct_circuit(params):\n",
    "    \"\"\"Builds the circuit with the necessary number of layers\"\"\"\n",
    "    circuit = QuantumCircuit(4)\n",
    "    circuit = layer_calculation(circuit,params)\n",
    "    transpiled_circuit = transpile(circuit, basis_gates = ['cx','u3'])\n",
    "    return transpiled_circuit"
   ]
  },
  {
   "cell_type": "markdown",
   "metadata": {},
   "source": [
    "This is what our new circuit will look like:"
   ]
  },
  {
   "cell_type": "code",
   "execution_count": 22,
   "metadata": {},
   "outputs": [
    {
     "data": {
      "image/png": "[encoded data removed]",
      "text/plain": [
       "<Figure size 983.577x264.88 with 1 Axes>"
      ]
     },
     "execution_count": 22,
     "metadata": {},
     "output_type": "execute_result"
    }
   ],
   "source": [
    "x = construct_circuit([1]*8)\n",
    "x.draw()"
   ]
  },
  {
   "cell_type": "code",
   "execution_count": 23,
   "metadata": {
    "collapsed": true
   },
   "outputs": [
    {
     "name": "stdout",
     "output_type": "stream",
     "text": [
      "---- Appended cobyla ----1\n",
      "---- Appended cobyla ----2\n",
      "---- Appended cobyla ----3\n",
      "---- Appended cobyla ----4\n",
      "---- Appended cobyla ----5\n"
     ]
    }
   ],
   "source": [
    "cobyla_results = main()"
   ]
  },
  {
   "cell_type": "code",
   "execution_count": 24,
   "metadata": {},
   "outputs": [
    {
     "data": {
      "text/plain": [
       "[<matplotlib.lines.Line2D at 0x7f0b78c21c10>]"
      ]
     },
     "execution_count": 24,
     "metadata": {},
     "output_type": "execute_result"
    },
    {
     "data": {
      "image/png": "[encoded data removed]",
      "text/plain": [
       "<Figure size 432x288 with 1 Axes>"
      ]
     },
     "metadata": {
      "needs_background": "light"
     },
     "output_type": "display_data"
    }
   ],
   "source": [
    "plt.title(\"Cobyla Optimization of Minimum Distance vs. Number of Layers\")\n",
    "plt.xlabel(\"Number Of Layers\")\n",
    "plt.ylabel(\"Minimum Distance\")\n",
    "plt.xticks(np.arange(6))\n",
    "plt.plot([i for i in range(1,len(cobyla_results)+1)],cobyla_results)"
   ]
  },
  {
   "cell_type": "markdown",
   "metadata": {},
   "source": [
    "## Thoughts\n",
    "Similarly to before, COBYLA is struggling with more layers being added on. However, I can't see any huge difference between how this circuit performs differently to our original. Perhaps I misunderstood the bonus question!\n",
    "\n"
   ]
  }
 ],
 "metadata": {
  "kernelspec": {
   "display_name": "Python 3",
   "language": "python",
   "name": "python3"
  }
 },
 "nbformat": 4,
 "nbformat_minor": 4
}
